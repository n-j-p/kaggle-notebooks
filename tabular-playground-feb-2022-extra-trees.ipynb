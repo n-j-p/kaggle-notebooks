{
 "cells": [
  {
   "cell_type": "markdown",
   "id": "9dbefde6",
   "metadata": {
    "papermill": {
     "duration": 0.009944,
     "end_time": "2022-02-28T18:32:47.857097",
     "exception": false,
     "start_time": "2022-02-28T18:32:47.847153",
     "status": "completed"
    },
    "tags": []
   },
   "source": [
    "Here's my workbook for the February 2022 Tabular Playground. Nothing too special here, just an ExtraTreesClassifier.\n",
    "\n",
    "I learnt a lot looking through others' notebooks. In particular, the following had lots of good ideas (some of which I borrowed for my entries):\n",
    "\n",
    "https://www.kaggle.com/ayoubchaoui/extratreesclassifier-vs-randomforestclassifier\n",
    "\n",
    "https://www.kaggle.com/munumbutt/extratrees-stratifiedkfold-memory-optimization\n",
    "\n",
    "https://www.kaggle.com/maxencefzr/tps-feb22-eda-extratrees\n",
    "\n",
    "https://www.kaggle.com/ambrosm/tpsfeb22-01-eda-which-makes-sense\n",
    "\n",
    "https://www.kaggle.com/kotrying/extra-blender-addition\n",
    "\n",
    "https://www.kaggle.com/ambrosm/tpsfeb22-03-clustering-improves-the-predictions"
   ]
  },
  {
   "cell_type": "markdown",
   "id": "8e27a182",
   "metadata": {
    "papermill": {
     "duration": 0.008683,
     "end_time": "2022-02-28T18:32:47.877630",
     "exception": false,
     "start_time": "2022-02-28T18:32:47.868947",
     "status": "completed"
    },
    "tags": []
   },
   "source": [
    "Script parameters:"
   ]
  },
  {
   "cell_type": "code",
   "execution_count": 1,
   "id": "5bc6caae",
   "metadata": {
    "execution": {
     "iopub.execute_input": "2022-02-28T18:32:47.900408Z",
     "iopub.status.busy": "2022-02-28T18:32:47.898660Z",
     "iopub.status.idle": "2022-02-28T18:32:47.906844Z",
     "shell.execute_reply": "2022-02-28T18:32:47.907438Z",
     "shell.execute_reply.started": "2022-02-28T18:21:09.857243Z"
    },
    "id": "5b0mDq5u8-2p",
    "papermill": {
     "duration": 0.021053,
     "end_time": "2022-02-28T18:32:47.907703",
     "exception": false,
     "start_time": "2022-02-28T18:32:47.886650",
     "status": "completed"
    },
    "tags": []
   },
   "outputs": [],
   "source": [
    "num_estimators = 80\n",
    "num_splits = 10"
   ]
  },
  {
   "cell_type": "markdown",
   "id": "7ecb0e1b",
   "metadata": {
    "papermill": {
     "duration": 0.008811,
     "end_time": "2022-02-28T18:32:47.925380",
     "exception": false,
     "start_time": "2022-02-28T18:32:47.916569",
     "status": "completed"
    },
    "tags": []
   },
   "source": [
    "Library imports and data importing:"
   ]
  },
  {
   "cell_type": "code",
   "execution_count": 2,
   "id": "10f624b2",
   "metadata": {
    "execution": {
     "iopub.execute_input": "2022-02-28T18:32:47.945468Z",
     "iopub.status.busy": "2022-02-28T18:32:47.944902Z",
     "iopub.status.idle": "2022-02-28T18:32:47.951015Z",
     "shell.execute_reply": "2022-02-28T18:32:47.951599Z",
     "shell.execute_reply.started": "2022-02-28T18:21:09.863452Z"
    },
    "id": "d-DGnEBzT-qI",
    "outputId": "a305877c-1ae0-4781-b26d-d3738ce34cb5",
    "papermill": {
     "duration": 0.017971,
     "end_time": "2022-02-28T18:32:47.951775",
     "exception": false,
     "start_time": "2022-02-28T18:32:47.933804",
     "status": "completed"
    },
    "tags": []
   },
   "outputs": [
    {
     "name": "stdout",
     "output_type": "stream",
     "text": [
      "/kaggle/input/tabular-playground-series-feb-2022/sample_submission.csv\n",
      "/kaggle/input/tabular-playground-series-feb-2022/train.csv\n",
      "/kaggle/input/tabular-playground-series-feb-2022/test.csv\n"
     ]
    }
   ],
   "source": [
    "import numpy as np # linear algebra\n",
    "import pandas as pd # data processing, CSV file I/O (e.g. pd.read_csv)\n",
    "\n",
    "import os\n",
    "for dirname, _, filenames in os.walk('/kaggle/input'):\n",
    "    for filename in filenames:\n",
    "        print(os.path.join(dirname, filename))"
   ]
  },
  {
   "cell_type": "code",
   "execution_count": 3,
   "id": "d1a9a762",
   "metadata": {
    "execution": {
     "iopub.execute_input": "2022-02-28T18:32:47.973511Z",
     "iopub.status.busy": "2022-02-28T18:32:47.972890Z",
     "iopub.status.idle": "2022-02-28T18:33:15.381092Z",
     "shell.execute_reply": "2022-02-28T18:33:15.380462Z",
     "shell.execute_reply.started": "2022-02-28T18:21:09.877581Z"
    },
    "id": "P1F03xbwTrlL",
    "outputId": "4364b674-68eb-437b-eca1-8a48851d7e54",
    "papermill": {
     "duration": 27.419788,
     "end_time": "2022-02-28T18:33:15.381221",
     "exception": false,
     "start_time": "2022-02-28T18:32:47.961433",
     "status": "completed"
    },
    "tags": []
   },
   "outputs": [],
   "source": [
    "train = pd.read_csv('/kaggle/input/tabular-playground-series-feb-2022/train.csv',\n",
    "                   index_col='row_id')\n",
    "#y = train['target']\n",
    "from sklearn.preprocessing import LabelEncoder\n",
    "target_encoder = LabelEncoder()\n",
    "y = pd.Series(target_encoder.fit_transform(train[\"target\"]))\n",
    "X = train.drop(labels=['target'], axis=1)"
   ]
  },
  {
   "cell_type": "code",
   "execution_count": 4,
   "id": "b513b2ee",
   "metadata": {
    "execution": {
     "iopub.execute_input": "2022-02-28T18:33:15.404848Z",
     "iopub.status.busy": "2022-02-28T18:33:15.404246Z",
     "iopub.status.idle": "2022-02-28T18:33:27.624703Z",
     "shell.execute_reply": "2022-02-28T18:33:27.625527Z",
     "shell.execute_reply.started": "2022-02-28T18:21:25.747082Z"
    },
    "id": "sQ00Q8xA_MZw",
    "outputId": "4085fa16-0cfc-4590-eaac-d5b4e791399f",
    "papermill": {
     "duration": 12.234792,
     "end_time": "2022-02-28T18:33:27.625715",
     "exception": false,
     "start_time": "2022-02-28T18:33:15.390923",
     "status": "completed"
    },
    "tags": []
   },
   "outputs": [
    {
     "name": "stdout",
     "output_type": "stream",
     "text": [
      "           A0T0G0C10  A0T0G1C9      A0T0G2C8  A0T0G3C7  A0T0G4C6  A0T0G5C5  \\\n",
      "row_id                                                                       \n",
      "200000 -9.536743e-07 -0.000002 -9.153442e-07  0.000024  0.000034 -0.000002   \n",
      "200001 -9.536743e-07 -0.000010 -4.291534e-05 -0.000114  0.001800 -0.000240   \n",
      "200002  4.632568e-08  0.000003  8.465576e-08 -0.000014  0.000007 -0.000005   \n",
      "200003 -9.536743e-07 -0.000008  8.084656e-06  0.000216  0.000420  0.000514   \n",
      "200004 -9.536743e-07 -0.000010 -4.291534e-05 -0.000114 -0.000200 -0.000240   \n",
      "\n",
      "        A0T0G6C4  A0T0G7C3  A0T0G8C2  A0T0G9C1  ...  A8T0G0C2  A8T0G1C1  \\\n",
      "row_id                                          ...                       \n",
      "200000  0.000021  0.000024 -0.000009 -0.000008  ...  0.000039  0.000085   \n",
      "200001  0.001800 -0.000114  0.000957 -0.000010  ... -0.000043  0.000914   \n",
      "200002 -0.000004  0.000003  0.000004 -0.000008  ...  0.000041  0.000102   \n",
      "200003  0.000452  0.000187 -0.000005 -0.000008  ...  0.000069  0.000158   \n",
      "200004 -0.000200 -0.000114 -0.000043 -0.000010  ... -0.000043 -0.000086   \n",
      "\n",
      "        A8T0G2C0  A8T1G0C1  A8T1G1C0  A8T2G0C0  A9T0G0C1  A9T0G1C0  A9T1G0C0  \\\n",
      "row_id                                                                         \n",
      "200000  0.000055  0.000108  0.000090  0.000059  0.000010  0.000006  0.000027   \n",
      "200001 -0.000043 -0.000086 -0.000086 -0.000043 -0.000010 -0.000010 -0.000010   \n",
      "200002  0.000084  0.000111  0.000117  0.000070  0.000020  0.000030  0.000021   \n",
      "200003  0.000098  0.000175  0.000217  0.000150  0.000018  0.000016  0.000051   \n",
      "200004 -0.000043 -0.000086  0.000914 -0.000043 -0.000010 -0.000010  0.000990   \n",
      "\n",
      "           A10T0G0C0  \n",
      "row_id                \n",
      "200000  4.632568e-08  \n",
      "200001 -9.536743e-07  \n",
      "200002  4.632568e-08  \n",
      "200003 -9.536743e-07  \n",
      "200004 -9.536743e-07  \n",
      "\n",
      "[5 rows x 286 columns]\n"
     ]
    }
   ],
   "source": [
    "test = pd.read_csv('/kaggle/input/tabular-playground-series-feb-2022/test.csv',\n",
    "                    index_col='row_id')\n",
    "print(test.head())"
   ]
  },
  {
   "cell_type": "markdown",
   "id": "b6eebfb3",
   "metadata": {
    "papermill": {
     "duration": 0.009828,
     "end_time": "2022-02-28T18:33:27.645476",
     "exception": false,
     "start_time": "2022-02-28T18:33:27.635648",
     "status": "completed"
    },
    "tags": []
   },
   "source": [
    "Train an ExtraTreesClassifier. I tried RandomForest and lots of different hyperparameters evaluated using sklearn.model_selection.GridSearchCV etc., but nothing really provided much improvement over an ExtraTreesClassifier.\n",
    "\n",
    "For each fold of the cross validation, test-set prediction probabilities are saved for later use."
   ]
  },
  {
   "cell_type": "code",
   "execution_count": 5,
   "id": "f5213dad",
   "metadata": {
    "execution": {
     "iopub.execute_input": "2022-02-28T18:33:27.668581Z",
     "iopub.status.busy": "2022-02-28T18:33:27.667648Z",
     "iopub.status.idle": "2022-02-28T18:43:32.963935Z",
     "shell.execute_reply": "2022-02-28T18:43:32.964584Z",
     "shell.execute_reply.started": "2022-02-28T18:21:37.670483Z"
    },
    "id": "D0LOGVIyiNW6",
    "papermill": {
     "duration": 605.309704,
     "end_time": "2022-02-28T18:43:32.964920",
     "exception": false,
     "start_time": "2022-02-28T18:33:27.655216",
     "status": "completed"
    },
    "tags": []
   },
   "outputs": [
    {
     "name": "stdout",
     "output_type": "stream",
     "text": [
      "Fold: 1 Accuracy: 0.99555 Time (min.): 0.9133802612622579\n",
      "Fold: 2 Accuracy: 0.9949 Time (min.): 0.9318466265996297\n",
      "Fold: 3 Accuracy: 0.99515 Time (min.): 0.9136050780614217\n",
      "Fold: 4 Accuracy: 0.99625 Time (min.): 0.938936996459961\n",
      "Fold: 5 Accuracy: 0.99545 Time (min.): 0.9208490173021953\n",
      "Fold: 6 Accuracy: 0.99545 Time (min.): 0.9412370800971985\n",
      "Fold: 7 Accuracy: 0.99525 Time (min.): 0.9276675899823507\n",
      "Fold: 8 Accuracy: 0.99605 Time (min.): 0.9280829389890035\n",
      "Fold: 9 Accuracy: 0.99495 Time (min.): 0.9220328609148661\n",
      "Fold: 10 Accuracy: 0.9959 Time (min.): 0.9335474252700806\n"
     ]
    }
   ],
   "source": [
    "from sklearn.ensemble import ExtraTreesClassifier\n",
    "from sklearn.model_selection import StratifiedKFold\n",
    "from sklearn.metrics import accuracy_score\n",
    "import time\n",
    "\n",
    "fold_probs = [] # Store the probabilities from each fold for later use\n",
    "                # The final predicted value is determined by the\n",
    "                # average across all cross-validation folds\n",
    "\n",
    "# evaluate the model using Stratified K-Fold cross validation:\n",
    "for fold, (train_id, test_id) in enumerate(StratifiedKFold(n_splits=num_splits, \n",
    "                                                           shuffle=True, \n",
    "                                                           random_state=456).split(X,y)): \n",
    "                                                                                   \n",
    "    Xt = X.iloc[train_id]\n",
    "    yt = y.iloc[train_id]\n",
    "    Xv = X.iloc[test_id]\n",
    "    yv = y.iloc[test_id]\n",
    "    model = ExtraTreesClassifier(n_estimators = num_estimators)\n",
    "    start = time.time()\n",
    "\n",
    "    model.fit(Xt, yt)\n",
    "    \n",
    "    end = time.time()\n",
    "    \n",
    "    valid_pred = model.predict(Xv)\n",
    "    valid_score = accuracy_score(yv, valid_pred)\n",
    "    \n",
    "    print(\"Fold:\", fold + 1, \"Accuracy:\", valid_score, 'Time (min.):', (end - start)/60)\n",
    "    \n",
    "    \n",
    "    fold_probs.append(model.predict_proba(test))\n",
    "    "
   ]
  },
  {
   "cell_type": "markdown",
   "id": "f49ad229",
   "metadata": {
    "papermill": {
     "duration": 0.01165,
     "end_time": "2022-02-28T18:43:32.988897",
     "exception": false,
     "start_time": "2022-02-28T18:43:32.977247",
     "status": "completed"
    },
    "tags": []
   },
   "source": [
    "Although the cross-validated accuracy is quite high, the accuracy on the test set is a lot lower due to target drift. Essentially, bacteria mutated between the training and test set, and decision boundaries calculated on the training set are not as accurate. This is explained in more detail (with figures as well) in AmbrosM's notebooks (see above) and elsewhere. I spent a bit of time exploring this, but ran out of time in coming up with a novel way to improve the test-set predictions.\n",
    "\n",
    "Next, we average the category probabilities across the cross-validation to come up with the best prediction:"
   ]
  },
  {
   "cell_type": "code",
   "execution_count": 6,
   "id": "139224bd",
   "metadata": {
    "execution": {
     "iopub.execute_input": "2022-02-28T18:43:33.020371Z",
     "iopub.status.busy": "2022-02-28T18:43:33.019716Z",
     "iopub.status.idle": "2022-02-28T18:43:33.045115Z",
     "shell.execute_reply": "2022-02-28T18:43:33.044523Z",
     "shell.execute_reply.started": "2022-02-28T18:31:58.701693Z"
    },
    "id": "FlGg4COi_-mR",
    "papermill": {
     "duration": 0.044312,
     "end_time": "2022-02-28T18:43:33.045250",
     "exception": false,
     "start_time": "2022-02-28T18:43:33.000938",
     "status": "completed"
    },
    "tags": []
   },
   "outputs": [
    {
     "name": "stdout",
     "output_type": "stream",
     "text": [
      "[[0.      0.      0.      ... 0.      0.      0.     ]\n",
      " [0.03625 0.00125 0.00625 ... 0.00125 0.00875 0.0025 ]\n",
      " [0.00625 0.00125 0.95375 ... 0.      0.00625 0.03125]\n",
      " ...\n",
      " [0.4     0.0425  0.0775  ... 0.05125 0.12    0.08625]\n",
      " [0.39    0.0575  0.085   ... 0.075   0.11125 0.08   ]\n",
      " [0.      0.      0.01375 ... 0.      0.0075  0.97875]]\n",
      "['Escherichia_fergusonii' 'Salmonella_enterica' 'Enterococcus_hirae' ...\n",
      " 'Bacteroides_fragilis' 'Bacteroides_fragilis' 'Streptococcus_pyogenes']\n"
     ]
    }
   ],
   "source": [
    "mean_prob = sum(fold_probs) / len(fold_probs) # Mean probability for each row\n",
    "print(mean_prob)\n",
    "\n",
    "mean_pred = target_encoder.inverse_transform(np.argmax(mean_prob, axis=1))\n",
    "print(mean_pred)"
   ]
  },
  {
   "cell_type": "code",
   "execution_count": 7,
   "id": "5dbbd995",
   "metadata": {
    "execution": {
     "iopub.execute_input": "2022-02-28T18:43:33.075972Z",
     "iopub.status.busy": "2022-02-28T18:43:33.075410Z",
     "iopub.status.idle": "2022-02-28T18:43:33.318761Z",
     "shell.execute_reply": "2022-02-28T18:43:33.319313Z",
     "shell.execute_reply.started": "2022-02-28T18:31:58.733494Z"
    },
    "id": "KYNaWdTSTrlS",
    "papermill": {
     "duration": 0.261369,
     "end_time": "2022-02-28T18:43:33.319493",
     "exception": false,
     "start_time": "2022-02-28T18:43:33.058124",
     "status": "completed"
    },
    "tags": []
   },
   "outputs": [
    {
     "name": "stdout",
     "output_type": "stream",
     "text": [
      "       row_id                    target\n",
      "0      200000    Escherichia_fergusonii\n",
      "1      200001       Salmonella_enterica\n",
      "2      200002        Enterococcus_hirae\n",
      "3      200003       Salmonella_enterica\n",
      "4      200004     Staphylococcus_aureus\n",
      "...       ...                       ...\n",
      "99995  299995  Streptococcus_pneumoniae\n",
      "99996  299996      Bacteroides_fragilis\n",
      "99997  299997      Bacteroides_fragilis\n",
      "99998  299998      Bacteroides_fragilis\n",
      "99999  299999    Streptococcus_pyogenes\n",
      "\n",
      "[100000 rows x 2 columns]\n"
     ]
    }
   ],
   "source": [
    "output = pd.DataFrame(data = {'row_id': test.index, 'target': mean_pred})\n",
    "print(output)\n",
    "output.to_csv('submission.csv', index=False)"
   ]
  }
 ],
 "metadata": {
  "kernelspec": {
   "display_name": "Python 3",
   "language": "python",
   "name": "python3"
  },
  "language_info": {
   "codemirror_mode": {
    "name": "ipython",
    "version": 3
   },
   "file_extension": ".py",
   "mimetype": "text/x-python",
   "name": "python",
   "nbconvert_exporter": "python",
   "pygments_lexer": "ipython3",
   "version": "3.7.12"
  },
  "papermill": {
   "default_parameters": {},
   "duration": 655.508811,
   "end_time": "2022-02-28T18:43:34.145206",
   "environment_variables": {},
   "exception": null,
   "input_path": "__notebook__.ipynb",
   "output_path": "__notebook__.ipynb",
   "parameters": {},
   "start_time": "2022-02-28T18:32:38.636395",
   "version": "2.3.3"
  }
 },
 "nbformat": 4,
 "nbformat_minor": 5
}
